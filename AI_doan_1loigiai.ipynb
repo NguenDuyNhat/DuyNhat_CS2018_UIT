{
  "nbformat": 4,
  "nbformat_minor": 0,
  "metadata": {
    "colab": {
      "name": "AI_doan_1loigiai.ipynb",
      "provenance": [],
      "collapsed_sections": [],
      "authorship_tag": "ABX9TyOrtGf8VfygBd2gV52C2wgc",
      "include_colab_link": true
    },
    "kernelspec": {
      "name": "python3",
      "display_name": "Python 3"
    }
  },
  "cells": [
    {
      "cell_type": "markdown",
      "metadata": {
        "id": "view-in-github",
        "colab_type": "text"
      },
      "source": [
        "<a href=\"https://colab.research.google.com/github/NguenDuyNhat/DuyNhat_CS2018_UIT/blob/master/AI_doan_1loigiai.ipynb\" target=\"_parent\"><img src=\"https://colab.research.google.com/assets/colab-badge.svg\" alt=\"Open In Colab\"/></a>"
      ]
    },
    {
      "cell_type": "code",
      "metadata": {
        "id": "_5iFYitNJxys",
        "colab_type": "code",
        "colab": {}
      },
      "source": [
        "def oneanswer(threads):\n",
        "  sentence=threads.split('.')    # chia thành từng câu theo dấu .\n",
        "  words=[]                #tạo 1 list trống là words\n",
        "  for seq in sentence:         # chạy từng phần tử trong câu 1\n",
        "    seq=seq.split()       #chia thành từng chữ theo dấu cách\n",
        "    words.append(seq)     #thêm từng chữ vào list words\n",
        "  b=[]                    #tạo list b, nếu phần từ nào là số thêm vào b\n",
        "  for num in threads.split():\n",
        "    if(num.isdigit()):\n",
        "      b.append(float(num))\n",
        "  b.sort()                # sắp xếp b theo tăng dần\n",
        "                          #cách đặt lời giải\n",
        "  answer=sentence[-1].replace('Hỏi ','') \n",
        "  answer=answer.replace('bao nhiêu','số').replace('?',' là:')\n",
        "\n",
        "########################################## mổi trong câu hỏi ##################################################\n",
        "  if('mỗi' in sentence[-1].lower()):\n",
        "    b.sort()\n",
        "    pheptoan=' '+str(int(b[1]))+':'+str(int(b[0]))+'='+str(int(b[1]/b[0]))+' '+'('+(words[-1][words[-1].index('nhiêu')+1])+')'\n",
        "    dapso=str(' Đáp số:')+str(int(b[1]/b[0]))+' '+(words[-1][words[-1].index('nhiêu')+1])\n",
        "\n",
        "########################################## tất cả trong câu hỏi ##################################################\n",
        "#An có 10 viên kẹo, Bình có 20 viên kẹo.Hỏi cả hai có tổng cộng bao nhiêu viên kẹo?\n",
        "  if( 'cả hai'  in sentence[-1].lower()):\n",
        "    pheptoan=' '+str(int(b[1]))+'+'+str(int(b[0]))+'='+str(int(b[1]+b[0]))+'('+(words[-1][words[-1].index('nhiêu')+1])+')'\n",
        "    dapso=str(' Đáp số:')+str(int(b[1]+b[0]))+' '+(words[-1][words[-1].index('nhiêu')+1])\n",
        "\n",
        "########################################## còn lại trong câu hỏi ##################################################\n",
        "#Một cửa hàng có 91 bóng đèn, cửa hàng đã bán 10 bóng đèn. Hỏi cửa hàng còn lại bao nhiêu bóng đèn?\n",
        "  if('còn lại' in sentence[-1].lower()):\n",
        "    pheptoan=' '+str(int(b[1]))+'-'+str(int(b[0]))+'='+str(int(b[1]-b[0]))+'('+(words[-1][words[-1].index('nhiêu')+1])+')'\n",
        "    dapso=str(' Đáp số:')+str(int(b[1]-b[0]))+' '+(words[-1][words[-1].index('nhiêu')+1])\n",
        "########################################## và, gấp trong giả thuyết ################################################\n",
        "#Cửa hàng buổi sáng bán được 77 xe đạp và gấp 7 lần số xe đạp bán được trong buổi chiều. Hỏi cửa hàng bán được bao nhiêu xe đạp vào buổi chiều?\n",
        "  if(('và' and 'gấp') in sentence[0].lower()):\n",
        "    pheptoan=' '+str(int(b[1]))+':'+str(int(b[0]))+'='+str(int(b[1]/b[0]))+'('+(words[-1][words[-1].index('nhiêu')+1])+')'\n",
        "    dapso=str(' Đáp số:')+str(int(b[1]/b[0]))+' '+(words[-1][words[-1].index('nhiêu')+1])\n",
        "#\n",
        "  \n",
        "  print(answer)\n",
        "  print(pheptoan)\n",
        "  print(dapso)"
      ],
      "execution_count": 0,
      "outputs": []
    },
    {
      "cell_type": "code",
      "metadata": {
        "id": "u3s6yRCrE5h9",
        "colab_type": "code",
        "outputId": "f6506b03-b235-4afa-8deb-c70a854ebab9",
        "colab": {
          "base_uri": "https://localhost:8080/",
          "height": 85
        }
      },
      "source": [
        "threads=input(str()) # nhập vào đề bài cần tính\n",
        "oneanswer(threads)\n"
      ],
      "execution_count": 42,
      "outputs": [
        {
          "output_type": "stream",
          "text": [
            "Cửa hàng buổi sáng bán được 77 xe đạp và gấp 7 lần số xe đạp bán được trong buổi chiều. Hỏi cửa hàng bán được bao nhiêu xe đạp vào buổi chiều?\n",
            " cửa hàng bán được số xe đạp vào buổi chiều là:\n",
            " 77:7=11(xe)\n",
            " Đáp số:11 xe\n"
          ],
          "name": "stdout"
        }
      ]
    }
  ]
}