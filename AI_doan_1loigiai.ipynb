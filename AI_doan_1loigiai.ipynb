{
  "nbformat": 4,
  "nbformat_minor": 0,
  "metadata": {
    "colab": {
      "name": "AI_doan_1loigiai.ipynb",
      "provenance": [],
      "collapsed_sections": [],
      "authorship_tag": "ABX9TyM8tRIYTvcTuG4RErbjOSz6",
      "include_colab_link": true
    },
    "kernelspec": {
      "name": "python3",
      "display_name": "Python 3"
    }
  },
  "cells": [
    {
      "cell_type": "markdown",
      "metadata": {
        "id": "view-in-github",
        "colab_type": "text"
      },
      "source": [
        "<a href=\"https://colab.research.google.com/github/NguenDuyNhat/DuyNhat_CS2018_UIT/blob/master/AI_doan_1loigiai.ipynb\" target=\"_parent\"><img src=\"https://colab.research.google.com/assets/colab-badge.svg\" alt=\"Open In Colab\"/></a>"
      ]
    },
    {
      "cell_type": "code",
      "metadata": {
        "id": "4GEWaH84BE1D",
        "colab_type": "code",
        "colab": {
          "base_uri": "https://localhost:8080/",
          "height": 34
        },
        "outputId": "cb9e77c3-4acf-402c-cd0d-1e01181b02eb"
      },
      "source": [
        "debai=input(str()) # nhập vào đề bài cần tính\n"
      ],
      "execution_count": 150,
      "outputs": [
        {
          "output_type": "stream",
          "text": [
            "Cô giáo có 45 viên bi, cô chia đều cho 5 tổ. Hỏi mỗi tổ có bao nhiêu viên bi?\n"
          ],
          "name": "stdout"
        }
      ]
    },
    {
      "cell_type": "code",
      "metadata": {
        "id": "_5iFYitNJxys",
        "colab_type": "code",
        "colab": {
          "base_uri": "https://localhost:8080/",
          "height": 51
        },
        "outputId": "8b4a0749-38d9-4c08-9c37-2c59ac81250f"
      },
      "source": [
        "cau=debai.split('.') # chia thành từng câu theo dấu .\n",
        "cau"
      ],
      "execution_count": 151,
      "outputs": [
        {
          "output_type": "execute_result",
          "data": {
            "text/plain": [
              "['Cô giáo có 45 viên bi, cô chia đều cho 5 tổ',\n",
              " ' Hỏi mỗi tổ có bao nhiêu viên bi?']"
            ]
          },
          "metadata": {
            "tags": []
          },
          "execution_count": 151
        }
      ]
    },
    {
      "cell_type": "code",
      "metadata": {
        "id": "rhk6Z2RQJ00i",
        "colab_type": "code",
        "colab": {
          "base_uri": "https://localhost:8080/",
          "height": 34
        },
        "outputId": "030a2639-cf94-4153-b002-15d91bd2f337"
      },
      "source": [
        "words=[] #tạo 1 list trống là words\n",
        "words"
      ],
      "execution_count": 152,
      "outputs": [
        {
          "output_type": "execute_result",
          "data": {
            "text/plain": [
              "[]"
            ]
          },
          "metadata": {
            "tags": []
          },
          "execution_count": 152
        }
      ]
    },
    {
      "cell_type": "code",
      "metadata": {
        "id": "ez9aeQjsJ3Lo",
        "colab_type": "code",
        "colab": {
          "base_uri": "https://localhost:8080/",
          "height": 238
        },
        "outputId": "276addc2-8fb6-47d4-cfac-df4132b0d719"
      },
      "source": [
        "for seq in cau: # chạy từng phần tử trong câu 1\n",
        "    seq=seq.split() #chia thành từng chữ theo dấu cách\n",
        "    words.append(seq) #thêm từng chữ vào list words\n",
        "words"
      ],
      "execution_count": 153,
      "outputs": [
        {
          "output_type": "execute_result",
          "data": {
            "text/plain": [
              "[['Cô',\n",
              "  'giáo',\n",
              "  'có',\n",
              "  '45',\n",
              "  'viên',\n",
              "  'bi,',\n",
              "  'cô',\n",
              "  'chia',\n",
              "  'đều',\n",
              "  'cho',\n",
              "  '5',\n",
              "  'tổ'],\n",
              " ['Hỏi', 'mỗi', 'tổ', 'có', 'bao', 'nhiêu', 'viên', 'bi?']]"
            ]
          },
          "metadata": {
            "tags": []
          },
          "execution_count": 153
        }
      ]
    },
    {
      "cell_type": "code",
      "metadata": {
        "id": "c060GWJCJ76p",
        "colab_type": "code",
        "colab": {}
      },
      "source": [
        "b=[] #tạo list b, nếu phần từ nào là số thêm vào b\n",
        "for num in debai.split():\n",
        "  if(num.isdigit()):\n",
        "    b.append(float(num))"
      ],
      "execution_count": 0,
      "outputs": []
    },
    {
      "cell_type": "code",
      "metadata": {
        "id": "bCbeY40AN7o9",
        "colab_type": "code",
        "colab": {
          "base_uri": "https://localhost:8080/",
          "height": 34
        },
        "outputId": "f1a963fb-6607-4cce-9f49-6a0ee5edba23"
      },
      "source": [
        "b.sort() # sắp xếp b theo tăng dần\n",
        "b"
      ],
      "execution_count": 155,
      "outputs": [
        {
          "output_type": "execute_result",
          "data": {
            "text/plain": [
              "[5.0, 45.0]"
            ]
          },
          "metadata": {
            "tags": []
          },
          "execution_count": 155
        }
      ]
    },
    {
      "cell_type": "code",
      "metadata": {
        "id": "iqA-NeqTKDrs",
        "colab_type": "code",
        "colab": {}
      },
      "source": [
        "loigiai=cau[-1].replace('Hỏi ','') #cách đặt lời giải\n",
        "loigiai=loigiai.replace('bao nhiêu','số').replace('?',' là:')\n",
        "########################################## mổi trong câu hỏi\n",
        "if('mỗi' in cau[-1].lower()):\n",
        "  b.sort()\n",
        "  pheptoan=' '+str(int(b[1]))+':'+str(int(b[0]))+'='+str(int(b[1]/b[0]))+' '+'('+(words[-1][words[-1].index('nhiêu')+1])+')'\n",
        "  dapso=str(' Đáp số:')+str(int(b[1]/b[0]))+(words[-1][words[-1].index('nhiêu')+1])\n",
        "########################################## tất cả trong câu hỏi\n",
        "if('tất cả' in cau[-1].lower()):\n",
        "  pheptoan=' '+str(int(b[1]))+'+'+str(int(b[0]))+'='+str(int(b[1]+b[0]))+'('+(words[-1][words[-1].index('nhiêu')+1])+')'\n",
        "  dapso=str(' Đáp số:')+str(int(b[1]+b[0]))+' '+(words[-1][words[-1].index('nhiêu')+1])\n",
        "########################################## còn lại trong câu hỏi\n",
        "if('còn lại' in cau[-1].lower()):\n",
        "  pheptoan=' '+str(int(b[1]))+'-'+str(int(b[0]))+'='+str(int(b[1]-b[0]))+'('+(words[-1][words[-1].index('nhiêu')+1])+')'\n",
        "  dapso=str(' Đáp số:')+str(int(b[1]-b[0]))+' '+(words[-1][words[-1].index('nhiêu')+1])\n"
      ],
      "execution_count": 0,
      "outputs": []
    },
    {
      "cell_type": "code",
      "metadata": {
        "id": "u3s6yRCrE5h9",
        "colab_type": "code",
        "colab": {
          "base_uri": "https://localhost:8080/",
          "height": 68
        },
        "outputId": "2455c8cf-8df4-4169-b18c-7222848aab71"
      },
      "source": [
        "print(loigiai)\n",
        "print(pheptoan)\n",
        "print(dapso)"
      ],
      "execution_count": 157,
      "outputs": [
        {
          "output_type": "stream",
          "text": [
            " mỗi tổ có số viên bi là:\n",
            " 45:5=9 (viên)\n",
            " Đáp số:9viên\n"
          ],
          "name": "stdout"
        }
      ]
    }
  ]
}