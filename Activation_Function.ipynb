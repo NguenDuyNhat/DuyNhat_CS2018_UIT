{
  "nbformat": 4,
  "nbformat_minor": 0,
  "metadata": {
    "colab": {
      "name": "Activation Function.ipynb",
      "provenance": [],
      "authorship_tag": "ABX9TyPlat9w7uNCBp03J2uSXyu+",
      "include_colab_link": true
    },
    "kernelspec": {
      "name": "python3",
      "display_name": "Python 3"
    }
  },
  "cells": [
    {
      "cell_type": "markdown",
      "metadata": {
        "id": "view-in-github",
        "colab_type": "text"
      },
      "source": [
        "<a href=\"https://colab.research.google.com/github/NguenDuyNhat/DuyNhat_CS2018_UIT/blob/master/Activation_Function.ipynb\" target=\"_parent\"><img src=\"https://colab.research.google.com/assets/colab-badge.svg\" alt=\"Open In Colab\"/></a>"
      ]
    },
    {
      "cell_type": "code",
      "metadata": {
        "id": "Fqo8u-Wgf1ul",
        "colab_type": "code",
        "colab": {
          "base_uri": "https://localhost:8080/",
          "height": 34
        },
        "outputId": "ef3a6dae-54fb-4f53-da8a-10fc212d5a7f"
      },
      "source": [
        "import math   #logistic\n",
        "def logistic(data):\n",
        "  result=[]\n",
        "  for i in data:\n",
        "    result.append(1/(1+math.exp(-i)))\n",
        "  return result\n",
        "data=[1,5,-4,3,-2]\n",
        "print(logistic(data))\n"
      ],
      "execution_count": 10,
      "outputs": [
        {
          "output_type": "stream",
          "text": [
            "[0.7310585786300049, 0.9933071490757153, 0.01798620996209156, 0.9525741268224334, 0.11920292202211755]\n"
          ],
          "name": "stdout"
        }
      ]
    },
    {
      "cell_type": "code",
      "metadata": {
        "id": "bi6QVn88uFiI",
        "colab_type": "code",
        "colab": {
          "base_uri": "https://localhost:8080/",
          "height": 34
        },
        "outputId": "7f213bc3-aab8-4d8a-9d40-89a384b38d73"
      },
      "source": [
        "import math #tanh\n",
        "def tanh(data):\n",
        "  result=[]\n",
        "  for i in data:\n",
        "    result.append((2/(1+math.exp(-2*i)))-1)\n",
        "  return result\n",
        "data=[1,5,-4,3,-2]\n",
        "print(tanh(data))"
      ],
      "execution_count": 12,
      "outputs": [
        {
          "output_type": "stream",
          "text": [
            "[0.7615941559557646, 0.9999092042625952, -0.999329299739067, 0.9950547536867307, -0.9640275800758169]\n"
          ],
          "name": "stdout"
        }
      ]
    },
    {
      "cell_type": "code",
      "metadata": {
        "id": "N476GbjNvhN2",
        "colab_type": "code",
        "colab": {
          "base_uri": "https://localhost:8080/",
          "height": 51
        },
        "outputId": "22fe88b9-f659-4407-d689-cb4097976f9d"
      },
      "source": [
        "import math       #rectified linear unit\n",
        "def ReLU(data):\n",
        "  result=[]\n",
        "  for i in data:\n",
        "    if(i<0):\n",
        "      result.append(0)\n",
        "    elif(i>=0):\n",
        "      result.append(i)\n",
        "  return result\n",
        "data=[1,5,-4,3,-2]\n",
        "print(ReLU(data))"
      ],
      "execution_count": 19,
      "outputs": [
        {
          "output_type": "stream",
          "text": [
            "[1, 5, 0, 3, 0]\n",
            "ERROR! Session/line number was not unique in database. History logging moved to new session 68\n"
          ],
          "name": "stdout"
        }
      ]
    },
    {
      "cell_type": "code",
      "metadata": {
        "id": "yvVZxvapxww8",
        "colab_type": "code",
        "colab": {
          "base_uri": "https://localhost:8080/",
          "height": 34
        },
        "outputId": "a0fdb317-c0bd-46da-a8a1-f5ff63873dc1"
      },
      "source": [
        "import math\n",
        "def PReLU(data):    #Parameteric rectified linear unit\n",
        "  result=[]\n",
        "  for i in data:\n",
        "    if(i<0):\n",
        "      result.append(0.1*i)    #ax( với a=0,1)\n",
        "    elif(i>=0):\n",
        "      result.append(i)\n",
        "  return result\n",
        "data=[1,5,-4,3,-2]\n",
        "print(PReLU(data))"
      ],
      "execution_count": 23,
      "outputs": [
        {
          "output_type": "stream",
          "text": [
            "[1, 5, -0.4, 3, -0.2]\n"
          ],
          "name": "stdout"
        }
      ]
    },
    {
      "cell_type": "code",
      "metadata": {
        "id": "-dSomsgU02KS",
        "colab_type": "code",
        "colab": {
          "base_uri": "https://localhost:8080/",
          "height": 34
        },
        "outputId": "3f952335-8604-4e9c-ac01-9f5ec9a557c3"
      },
      "source": [
        "import math\n",
        "def ELU(data):  #exponential Linear \n",
        "  result=[]\n",
        "  for i in data:\n",
        "    if(i<0):\n",
        "      result.append(0.1*(math.exp(i)-1))\n",
        "    elif(i>=0):\n",
        "      result.append(i)\n",
        "  return result\n",
        "data=[1,5,-4,3,-2]\n",
        "print(ELU(data))\n"
      ],
      "execution_count": 26,
      "outputs": [
        {
          "output_type": "stream",
          "text": [
            "[1, 5, -0.09816843611112658, 3, -0.08646647167633874]\n"
          ],
          "name": "stdout"
        }
      ]
    },
    {
      "cell_type": "code",
      "metadata": {
        "id": "zXAHrFnn2gS_",
        "colab_type": "code",
        "colab": {
          "base_uri": "https://localhost:8080/",
          "height": 34
        },
        "outputId": "67bdd1ca-f730-4fb8-ba5e-e3f474ff95af"
      },
      "source": [
        "import math\n",
        "def softplus(data):   #soft plus\n",
        "  result=[]\n",
        "  for i in data:\n",
        "    result.append(math.log(1+math.exp(i)))\n",
        "  return result\n",
        "data=[1,5,-4,3,-2]\n",
        "print(softplus(data))"
      ],
      "execution_count": 30,
      "outputs": [
        {
          "output_type": "stream",
          "text": [
            "[1.3132616875182228, 5.006715348489118, 0.01814992791780978, 3.048587351573742, 0.1269280110429726]\n"
          ],
          "name": "stdout"
        }
      ]
    }
  ]
}