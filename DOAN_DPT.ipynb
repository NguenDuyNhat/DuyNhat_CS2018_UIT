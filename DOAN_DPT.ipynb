{
  "nbformat": 4,
  "nbformat_minor": 0,
  "metadata": {
    "colab": {
      "name": "DOAN_DPT.ipynb",
      "provenance": [],
      "private_outputs": true,
      "collapsed_sections": [],
      "mount_file_id": "1KFVqWO6U9vDbMgE4OlIEPm3MT1wies65",
      "authorship_tag": "ABX9TyPttb55w07kP0C+e+IX9KIn",
      "include_colab_link": true
    },
    "kernelspec": {
      "name": "python3",
      "display_name": "Python 3"
    }
  },
  "cells": [
    {
      "cell_type": "markdown",
      "metadata": {
        "id": "view-in-github",
        "colab_type": "text"
      },
      "source": [
        "<a href=\"https://colab.research.google.com/github/NguenDuyNhat/DuyNhat_CS2018_UIT/blob/master/DOAN_DPT.ipynb\" target=\"_parent\"><img src=\"https://colab.research.google.com/assets/colab-badge.svg\" alt=\"Open In Colab\"/></a>"
      ]
    },
    {
      "cell_type": "markdown",
      "metadata": {
        "id": "F4TygYxPAmj9",
        "colab_type": "text"
      },
      "source": [
        "#link file data : https://drive.google.com/drive/folders/1MZs-M9bS0FxoOQeE4na8TtHaprzdilOU?usp=sharing"
      ]
    },
    {
      "cell_type": "markdown",
      "metadata": {
        "id": "Umu9_3Os9Bl4",
        "colab_type": "text"
      },
      "source": [
        "# Liên kết với google drive, sau đó truy cập vào file chứa dữ liệu\n",
        "# File dữ liệu gồm 4 class: freeway, intersection,overpass, parkinglot\n"
      ]
    },
    {
      "cell_type": "code",
      "metadata": {
        "id": "C1iajt8F1L8E",
        "colab_type": "code",
        "colab": {}
      },
      "source": [
        "cd /content/drive/My Drive/UCMerced_LandUse/UCMerced_LandUse"
      ],
      "execution_count": null,
      "outputs": []
    },
    {
      "cell_type": "markdown",
      "metadata": {
        "id": "FhWL-rcq95rY",
        "colab_type": "text"
      },
      "source": [
        "# Khai báo các thư viện để sử dụng\n"
      ]
    },
    {
      "cell_type": "code",
      "metadata": {
        "id": "7J5XyBUs2k96",
        "colab_type": "code",
        "colab": {}
      },
      "source": [
        "import pandas as pd\n",
        "import numpy as np\n",
        "import matplotlib.pyplot as plt\n",
        "import seaborn as sns\n",
        "from sklearn.model_selection import train_test_split\n",
        "from sklearn.metrics import confusion_matrix, classification_report, accuracy_score\n",
        "import glob\n",
        "import cv2"
      ],
      "execution_count": null,
      "outputs": []
    },
    {
      "cell_type": "markdown",
      "metadata": {
        "id": "8LOKTbCi-LTk",
        "colab_type": "text"
      },
      "source": [
        "# Tạo 2 list : features label để chứa Features của Data và Label của Data"
      ]
    },
    {
      "cell_type": "code",
      "metadata": {
        "id": "W_L-0T9U2lpI",
        "colab_type": "code",
        "colab": {}
      },
      "source": [
        "features=[]\n",
        "label=[]"
      ],
      "execution_count": null,
      "outputs": []
    },
    {
      "cell_type": "markdown",
      "metadata": {
        "id": "ZP7Y2RTh-XvN",
        "colab_type": "text"
      },
      "source": [
        "# Label Freeway tương ứng với nhãn 0\n",
        "# Label intersection tương ứng nhãn 1\n",
        "# Label overpass tương ứng nhãn 2\n",
        "# Label parkinglot tương ứng nhãn 3"
      ]
    },
    {
      "cell_type": "code",
      "metadata": {
        "id": "N6yMg4DN2oV5",
        "colab_type": "code",
        "colab": {}
      },
      "source": [
        "trans_label={'freeway': 0, 'intersection': 1, 'overpass': 2, 'parkinglot': 3}"
      ],
      "execution_count": null,
      "outputs": []
    },
    {
      "cell_type": "markdown",
      "metadata": {
        "id": "9_lLsxOU-qNH",
        "colab_type": "text"
      },
      "source": [
        "# Duyệt qua tất cả các ảnh trong file Image\n",
        "#Resize các ảnh về dạng 128*128\n",
        "#Đưa các ảnh đó về dạng ma trận sau đó thêm vào list features\n",
        "#Thêm các label của data vào list label"
      ]
    },
    {
      "cell_type": "code",
      "metadata": {
        "id": "yTPk054p2tHX",
        "colab_type": "code",
        "colab": {}
      },
      "source": [
        "for link in glob.glob('Images/*/*'):\n",
        "  if link.split('/')[1] in trans_label.keys():\n",
        "    img=cv2.imread(link)\n",
        "    img=cv2.resize(img,(128,128))\n",
        "    img=np.reshape(img,128*128*3)\n",
        "    features.append(img)\n",
        "    label.append(trans_label[link.split('/')[1]])"
      ],
      "execution_count": null,
      "outputs": []
    },
    {
      "cell_type": "markdown",
      "metadata": {
        "id": "U8sVK95q_IVJ",
        "colab_type": "text"
      },
      "source": [
        "#Có tất cả 400 features tương ứng với 400 label"
      ]
    },
    {
      "cell_type": "code",
      "metadata": {
        "id": "ocpHiid77TN5",
        "colab_type": "code",
        "colab": {}
      },
      "source": [
        "len(features)"
      ],
      "execution_count": null,
      "outputs": []
    },
    {
      "cell_type": "code",
      "metadata": {
        "id": "sXaHok1z7Vni",
        "colab_type": "code",
        "colab": {}
      },
      "source": [
        "len(label)"
      ],
      "execution_count": null,
      "outputs": []
    },
    {
      "cell_type": "markdown",
      "metadata": {
        "id": "EXJ7xXhH_QpP",
        "colab_type": "text"
      },
      "source": [
        "#Đưa các con số ma trận trong features về khoảng [0-1]"
      ]
    },
    {
      "cell_type": "code",
      "metadata": {
        "id": "NYnAcsYe7XQz",
        "colab_type": "code",
        "colab": {}
      },
      "source": [
        "features=[feature/255.0 for feature in features]"
      ],
      "execution_count": null,
      "outputs": []
    },
    {
      "cell_type": "markdown",
      "metadata": {
        "id": "sQdnwVHb_b4A",
        "colab_type": "text"
      },
      "source": [
        "#Phân chia tập data thành 2 phần : phần train 80- phần test 20"
      ]
    },
    {
      "cell_type": "code",
      "metadata": {
        "id": "RKzobvzp7fkM",
        "colab_type": "code",
        "colab": {}
      },
      "source": [
        "X_train,X_test,y_train,y_test=train_test_split(features,label,test_size=0.2)"
      ],
      "execution_count": null,
      "outputs": []
    },
    {
      "cell_type": "markdown",
      "metadata": {
        "id": "lvGtGvwD_kmZ",
        "colab_type": "text"
      },
      "source": [
        "#Lần lượt chọn 2 model là : RandomForestClassifier và SVC"
      ]
    },
    {
      "cell_type": "code",
      "metadata": {
        "id": "W4b_xq2o7hWc",
        "colab_type": "code",
        "colab": {}
      },
      "source": [
        "from sklearn.ensemble import RandomForestClassifier\n",
        "model1=RandomForestClassifier()\n",
        "model1.fit(X_train,y_train)"
      ],
      "execution_count": null,
      "outputs": []
    },
    {
      "cell_type": "code",
      "metadata": {
        "id": "NVTzeFn57j-I",
        "colab_type": "code",
        "colab": {}
      },
      "source": [
        "predict1=model1.predict(X_test)"
      ],
      "execution_count": null,
      "outputs": []
    },
    {
      "cell_type": "code",
      "metadata": {
        "id": "m2LMycJJ7mTM",
        "colab_type": "code",
        "colab": {}
      },
      "source": [
        "print(classification_report(y_test,predict1))"
      ],
      "execution_count": null,
      "outputs": []
    },
    {
      "cell_type": "code",
      "metadata": {
        "id": "peOO_Grs7ofl",
        "colab_type": "code",
        "colab": {}
      },
      "source": [
        "print(confusion_matrix(y_test,predict1))"
      ],
      "execution_count": null,
      "outputs": []
    },
    {
      "cell_type": "code",
      "metadata": {
        "id": "cyh3qwJD73da",
        "colab_type": "code",
        "colab": {}
      },
      "source": [
        "sns.heatmap(confusion_matrix(y_test,predict1))"
      ],
      "execution_count": null,
      "outputs": []
    },
    {
      "cell_type": "code",
      "metadata": {
        "id": "pl2hkZs475MX",
        "colab_type": "code",
        "colab": {}
      },
      "source": [
        "X_train,X_test,y_train,y_test=train_test_split(features,label,test_size=0.2)\n",
        "from sklearn.svm import SVC, LinearSVC\n",
        "model2=SVC()\n",
        "model2.fit(X_train,y_train)"
      ],
      "execution_count": null,
      "outputs": []
    },
    {
      "cell_type": "code",
      "metadata": {
        "id": "a9VY8b7q8MEt",
        "colab_type": "code",
        "colab": {}
      },
      "source": [
        "predict2=model2.predict(X_test)"
      ],
      "execution_count": null,
      "outputs": []
    },
    {
      "cell_type": "code",
      "metadata": {
        "id": "xuV8LJz68OQM",
        "colab_type": "code",
        "colab": {}
      },
      "source": [
        "print(classification_report(y_test,predict2))"
      ],
      "execution_count": null,
      "outputs": []
    },
    {
      "cell_type": "code",
      "metadata": {
        "id": "XecH_8xh8RMI",
        "colab_type": "code",
        "colab": {}
      },
      "source": [
        "print(confusion_matrix(y_test,predict2))"
      ],
      "execution_count": null,
      "outputs": []
    },
    {
      "cell_type": "code",
      "metadata": {
        "id": "wkkFMxyd8SLF",
        "colab_type": "code",
        "colab": {}
      },
      "source": [
        "sns.heatmap(confusion_matrix(y_test,predict2))"
      ],
      "execution_count": null,
      "outputs": []
    },
    {
      "cell_type": "markdown",
      "metadata": {
        "id": "39Ag3RkoBdj_",
        "colab_type": "text"
      },
      "source": [
        "# Nhận xét về 2 model: 2 model có khả năng dự đoán sấp sỉ nhau, SVC là 60%, RFC là 57%. Chủ yếu 2 model nhận xét đúng nhất ở label 1( dựa vào heatmap của confusion_matrix của 2 model\n"
      ]
    }
  ]
}